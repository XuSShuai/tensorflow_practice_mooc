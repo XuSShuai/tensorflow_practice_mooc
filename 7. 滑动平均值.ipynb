{
 "cells": [
  {
   "cell_type": "markdown",
   "metadata": {},
   "source": [
    "滑动平均（影子值）：记录每一个参数一段时间内过往值的平均，增加了模型的泛化性。\n",
    "针对所有的参数：w和b。像是给参数加了影子，参数变化，影子缓慢跟随。"
   ]
  },
  {
   "cell_type": "markdown",
   "metadata": {},
   "source": [
    "$$\\text{影子初始值}=\\text{参数初始值}$$\n",
    "$$\\text{影子}=\\text{衰减率}*\\text{影子} + (1 - \\text{衰减率}) * \\text{参数值}$$\n",
    "$$\\text{衰减率} = min\\{\\text{MOVE_AVERAGE_DECAY}, \\frac{1 + \\text{轮数}}{10 + \\text{轮数}}\\}$$\n",
    "$$\\text{MOVE_AVERAGE_DECAY} = 0.99$$"
   ]
  },
  {
   "cell_type": "markdown",
   "metadata": {},
   "source": [
    "```python\n",
    "ema = tf.train.ExponentialMovingAverage(MOVING_AVERAGE_DECAY, global_step)\n",
    "```\n",
    " - MOVING_AVERAGE_DECAY:衰减率\n",
    " - global_step:当前轮数\n",
    "\n",
    "`ema_op = ema.apply([])`的括号里面是更新列表，每次运行`sess.run(ema_op)`会对更新列表中的参数求取滑动平均。实际应用中会自动将所有的参数汇总为列表，如下：`ema_op = ema.apply(tf.trainable_variables())`\n",
    "\n",
    "```python\n",
    "with tf.control_dependencies([train_step, ema_op]):\n",
    "    train = tf.no_op(name=\"train\")\n",
    "ema.average(参数名)  # 返回默写参数的平均值\n",
    "```"
   ]
  },
  {
   "cell_type": "code",
   "execution_count": 1,
   "metadata": {
    "collapsed": true
   },
   "outputs": [],
   "source": [
    "import tensorflow as tf"
   ]
  },
  {
   "cell_type": "code",
   "execution_count": 12,
   "metadata": {
    "collapsed": false
   },
   "outputs": [
    {
     "name": "stdout",
     "output_type": "stream",
     "text": [
      "[0.0, 0.0]\n",
      "[1, 1.0, 0.8181818]\n",
      "[2, 2.0, 1.7045455]\n",
      "[3, 3.0, 2.6013987]\n",
      "[4, 4.0, 3.5004995]\n",
      "[5, 5.0, 4.4002]\n",
      "[6, 6.0, 5.3000875]\n",
      "[7, 7.0, 6.2000413]\n",
      "[8, 8.0, 7.1000204]\n",
      "[9, 9.0, 8.0000105]\n",
      "[10, 10.0, 8.900005]\n"
     ]
    }
   ],
   "source": [
    "w = tf.Variable(0., tf.float32)\n",
    "global_step = tf.Variable(0, trainable=False)\n",
    "EXPONENTIAL_MOVING_AVERAGE = 0.99\n",
    "ema = tf.train.ExponentialMovingAverage(EXPONENTIAL_MOVING_AVERAGE, global_step)\n",
    "ema_op = ema.apply(tf.trainable_variables())\n",
    "\n",
    "init = tf.global_variables_initializer()\n",
    "\n",
    "with tf.Session() as sess:\n",
    "    sess.run(init)\n",
    "    print(sess.run([w, ema.average(w)]))\n",
    "    \n",
    "    for i in range(10):\n",
    "        sess.run(tf.assign_add(w, 1))\n",
    "        sess.run(tf.assign_add(global_step, 1))\n",
    "        sess.run(ema_op)\n",
    "        print(sess.run([global_step, w, ema.average(w)]))"
   ]
  }
 ],
 "metadata": {
  "anaconda-cloud": {},
  "kernelspec": {
   "display_name": "Python [conda root]",
   "language": "python",
   "name": "conda-root-py"
  },
  "language_info": {
   "codemirror_mode": {
    "name": "ipython",
    "version": 3
   },
   "file_extension": ".py",
   "mimetype": "text/x-python",
   "name": "python",
   "nbconvert_exporter": "python",
   "pygments_lexer": "ipython3",
   "version": "3.5.2"
  }
 },
 "nbformat": 4,
 "nbformat_minor": 1
}
