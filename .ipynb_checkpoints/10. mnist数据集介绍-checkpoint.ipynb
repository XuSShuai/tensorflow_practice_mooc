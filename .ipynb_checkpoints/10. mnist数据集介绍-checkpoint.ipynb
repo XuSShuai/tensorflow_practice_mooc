{
 "cells": [
  {
   "cell_type": "code",
   "execution_count": 1,
   "metadata": {
    "collapsed": true
   },
   "outputs": [],
   "source": [
    "from tensorflow.examples.tutorials.mnist import input_data"
   ]
  },
  {
   "cell_type": "code",
   "execution_count": 3,
   "metadata": {
    "collapsed": false,
    "scrolled": false
   },
   "outputs": [
    {
     "name": "stdout",
     "output_type": "stream",
     "text": [
      "WARNING:tensorflow:From D:\\soft\\Ana\\lib\\site-packages\\tensorflow\\contrib\\learn\\python\\learn\\datasets\\mnist.py:262: extract_images (from tensorflow.contrib.learn.python.learn.datasets.mnist) is deprecated and will be removed in a future version.\n",
      "Instructions for updating:\n",
      "Please use tf.data to implement this functionality.\n",
      "Extracting ./data/train-images-idx3-ubyte.gz\n",
      "WARNING:tensorflow:From D:\\soft\\Ana\\lib\\site-packages\\tensorflow\\contrib\\learn\\python\\learn\\datasets\\mnist.py:267: extract_labels (from tensorflow.contrib.learn.python.learn.datasets.mnist) is deprecated and will be removed in a future version.\n",
      "Instructions for updating:\n",
      "Please use tf.data to implement this functionality.\n",
      "Extracting ./data/train-labels-idx1-ubyte.gz\n",
      "WARNING:tensorflow:From D:\\soft\\Ana\\lib\\site-packages\\tensorflow\\contrib\\learn\\python\\learn\\datasets\\mnist.py:110: dense_to_one_hot (from tensorflow.contrib.learn.python.learn.datasets.mnist) is deprecated and will be removed in a future version.\n",
      "Instructions for updating:\n",
      "Please use tf.one_hot on tensors.\n",
      "Extracting ./data/t10k-images-idx3-ubyte.gz\n",
      "Extracting ./data/t10k-labels-idx1-ubyte.gz\n",
      "WARNING:tensorflow:From D:\\soft\\Ana\\lib\\site-packages\\tensorflow\\contrib\\learn\\python\\learn\\datasets\\mnist.py:290: DataSet.__init__ (from tensorflow.contrib.learn.python.learn.datasets.mnist) is deprecated and will be removed in a future version.\n",
      "Instructions for updating:\n",
      "Please use alternatives such as official/mnist/dataset.py from tensorflow/models.\n"
     ]
    }
   ],
   "source": [
    "mnist = input_data.read_data_sets(\"./data/\", one_hot=True)"
   ]
  },
  {
   "cell_type": "code",
   "execution_count": 4,
   "metadata": {
    "collapsed": false
   },
   "outputs": [
    {
     "name": "stdout",
     "output_type": "stream",
     "text": [
      "55000\n",
      "5000\n",
      "10000\n"
     ]
    }
   ],
   "source": [
    "print(mnist.train.num_examples)\n",
    "print(mnist.validation.num_examples)\n",
    "print(mnist.test.num_examples)"
   ]
  },
  {
   "cell_type": "code",
   "execution_count": 5,
   "metadata": {
    "collapsed": false
   },
   "outputs": [
    {
     "name": "stdout",
     "output_type": "stream",
     "text": [
      "(20, 784)\n",
      "(20, 10)\n"
     ]
    }
   ],
   "source": [
    "BATCH_SIZE = 20\n",
    "xs, ys = mnist.train.next_batch(BATCH_SIZE)\n",
    "print(xs.shape)\n",
    "print(ys.shape)"
   ]
  },
  {
   "cell_type": "markdown",
   "metadata": {},
   "source": [
    " - 从集合中取出全部变量，生成一个列表\n",
    "    ```python\n",
    "    tf.get_collection(\"\")\n",
    "    ```\n",
    " - 列表内所有元素相加\n",
    "    ```python\n",
    "    tf.add_n([])\n",
    "    ```\n",
    " - 将x转化为dtype类型\n",
    "    ```python\n",
    "    tf.cast(x, dtype)\n",
    "    ```\n",
    " - 返回最大值所在的索引号\n",
    "    ```python\n",
    "    tf.argmax(x, axis)\n",
    "    ```\n",
    " - 返回home/name\n",
    "    ```python\n",
    "    os.path.join(\"home\", \"name\")\n",
    "    ```\n",
    " - 其内定义的节点在计算图g中，可用来复现已经定义好的神经网络到计算图\n",
    "    ```python\n",
    "    with tf.Graph().as_default() as g\n",
    "    ```"
   ]
  },
  {
   "cell_type": "markdown",
   "metadata": {},
   "source": [
    "**保存模型：**\n",
    "\n",
    "```python\n",
    "saver = tf.train.Saver()\n",
    "with tf.Session() as sess:\n",
    "    for i in range(STEPS):\n",
    "        if i % 轮数 == 0:\n",
    "            saver.save(sess,os.path.join(mode_save_path, mode_nane), global_step)  # 模型保存在mode_save_path/mode_nane-global_step\n",
    "```"
   ]
  },
  {
   "cell_type": "markdown",
   "metadata": {},
   "source": [
    "**加载模型：**\n",
    "\n",
    "```python\n",
    "with tf.Session() as sess:\n",
    "    ckpt = tf.train.get_checkpoint_state(存储路径)\n",
    "    if ckpt and ckpt.model_checkpoint_path:\n",
    "        saver.restore(sess, model_checkpoint_path)  # 把保存的模型参数加载到当前的会话sess中\n",
    "```"
   ]
  },
  {
   "cell_type": "markdown",
   "metadata": {},
   "source": [
    "**可还原滑动平均值的saver对象的实例化八股：**\n",
    "\n",
    "```python\n",
    "ema = tf.train.ExponentialMovingAverage(滑动平均基数)\n",
    "ema_restore = ema.variables_to_restore()\n",
    "saver = tf.train.Saver(ema_restore)\n",
    "```"
   ]
  },
  {
   "cell_type": "markdown",
   "metadata": {},
   "source": [
    "**准确率计算方法**\n",
    "```python\n",
    "correct_prediction = tf.equal(tf.argmax(y, 1), tf.argmax(y_hat, 1))\n",
    "accuracy = tf.reduce_mean(tf.cast(correct_prediction, tf.float32))\n",
    "```"
   ]
  }
 ],
 "metadata": {
  "kernelspec": {
   "display_name": "Python [conda root]",
   "language": "python",
   "name": "conda-root-py"
  },
  "language_info": {
   "codemirror_mode": {
    "name": "ipython",
    "version": 3
   },
   "file_extension": ".py",
   "mimetype": "text/x-python",
   "name": "python",
   "nbconvert_exporter": "python",
   "pygments_lexer": "ipython3",
   "version": "3.5.2"
  }
 },
 "nbformat": 4,
 "nbformat_minor": 1
}
