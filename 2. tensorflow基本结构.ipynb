{
 "cells": [
  {
   "cell_type": "markdown",
   "metadata": {},
   "source": [
    " - 使用张量表示数据\n",
    " - 使用计算图搭建网络\n",
    " - 使用会话执行计算图\n",
    " - 使用优化器改进权重\n",
    " - 得到模型"
   ]
  },
  {
   "cell_type": "markdown",
   "metadata": {},
   "source": [
    "<table>\n",
    "<tr>\n",
    "<td>阶</td><td>名字</td><td>实例</td>\n",
    "</tr>\n",
    "<tr>\n",
    "<td>0阶</td><td>标量scalar</td><td>a = 1</td>\n",
    "</tr>\n",
    "<tr>\n",
    "<td>1阶</td><td>向量vector</td><td>a=[1,2,3]</td>\n",
    "</tr>\n",
    "<tr>\n",
    "<td>2阶</td><td>矩阵matrix</td><td>a = [[1,2,3],[4,5,6]]</td>\n",
    "</tr>\n",
    "<tr>\n",
    "<td>3阶</td><td>张量tensor</td><td>a = [[[</td>\n",
    "</tr>\n",
    "</table>"
   ]
  },
  {
   "cell_type": "code",
   "execution_count": 1,
   "metadata": {
    "collapsed": false
   },
   "outputs": [
    {
     "name": "stdout",
     "output_type": "stream",
     "text": [
      "Tensor(\"add:0\", shape=(2,), dtype=float32)\n"
     ]
    }
   ],
   "source": [
    "import tensorflow as tf\n",
    "a = tf.constant([1.0, 2.0])\n",
    "b = tf.constant([3.0, 4.0])\n",
    "result = a + b\n",
    "print(result)"
   ]
  },
  {
   "cell_type": "code",
   "execution_count": 2,
   "metadata": {
    "collapsed": false
   },
   "outputs": [
    {
     "name": "stdout",
     "output_type": "stream",
     "text": [
      "Tensor(\"MatMul:0\", shape=(1, 1), dtype=float32)\n"
     ]
    }
   ],
   "source": [
    "w = tf.constant([[1.0, 2.0]])\n",
    "x = tf.constant([[1.0], [2.0]])\n",
    "y = tf.matmul(w, x)\n",
    "print(y)"
   ]
  },
  {
   "cell_type": "code",
   "execution_count": 3,
   "metadata": {
    "collapsed": false
   },
   "outputs": [
    {
     "name": "stdout",
     "output_type": "stream",
     "text": [
      "[[5.]]\n"
     ]
    }
   ],
   "source": [
    "w = tf.constant([[1.0, 2.0]])\n",
    "x = tf.constant([[1.0], [2.0]])\n",
    "y = tf.matmul(w, x)\n",
    "with tf.Session() as sess:\n",
    "    print(sess.run(y))"
   ]
  }
 ],
 "metadata": {
  "anaconda-cloud": {},
  "kernelspec": {
   "display_name": "Python [conda root]",
   "language": "python",
   "name": "conda-root-py"
  },
  "language_info": {
   "codemirror_mode": {
    "name": "ipython",
    "version": 3
   },
   "file_extension": ".py",
   "mimetype": "text/x-python",
   "name": "python",
   "nbconvert_exporter": "python",
   "pygments_lexer": "ipython3",
   "version": "3.5.2"
  }
 },
 "nbformat": 4,
 "nbformat_minor": 1
}
