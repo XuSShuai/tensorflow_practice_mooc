{
 "cells": [
  {
   "cell_type": "markdown",
   "metadata": {},
   "source": [
    "## 1 - 前向传播"
   ]
  },
  {
   "cell_type": "markdown",
   "metadata": {},
   "source": [
    "```python\n",
    "def forward(x, regularizer):\n",
    "    w = \n",
    "    b = \n",
    "    y = \n",
    "    return y\n",
    "```\n",
    "\n",
    "```python\n",
    "def get_weight(shape, regularizer):\n",
    "    w = tf.Variable()\n",
    "    tf.add_to_collection(\"loss\", ...)\n",
    "    return w\n",
    "    \n",
    "def get_bias(shape):\n",
    "    b = \n",
    "    return b\n",
    "```"
   ]
  },
  {
   "cell_type": "markdown",
   "metadata": {},
   "source": [
    "## 2 - 反向传播"
   ]
  },
  {
   "cell_type": "markdown",
   "metadata": {},
   "source": [
    "```python\n",
    "def backward():\n",
    "    x = tf.placeholder()\n",
    "    y = tf.placeholder()\n",
    "    y_hat = \n",
    "    global_step = tf.Variable(0, trainable=False)\n",
    "    loss = \n",
    "    <正则化，指数衰减学习率，滑动平均>\n",
    "    train = \n",
    "    实例化saver\n",
    "    with tf.Session() as sess:\n",
    "        初始化所有变量\n",
    "        for i in range(STEPS):\n",
    "            sess.run(train, feed_dict={x:, y:})\n",
    "            if i % 轮数 == 0:\n",
    "                print()\n",
    "                saver.save()\n",
    "```"
   ]
  },
  {
   "cell_type": "markdown",
   "metadata": {},
   "source": [
    "### 2.1 - 正则化"
   ]
  },
  {
   "cell_type": "markdown",
   "metadata": {},
   "source": [
    "#### 2.1.1 - 反向传播\n",
    "\n",
    "```python\n",
    "ce = tf.nn.sparse_softmax_cross_entropy_with_logits(logits=y_hat, labels=tf.argmax(y, 1))\n",
    "cem = tf.reduce_mean(ce)\n",
    "loss = cem + tf.add_n(tf.get_collection(\"losses\"))\n",
    "```"
   ]
  },
  {
   "cell_type": "markdown",
   "metadata": {},
   "source": [
    "#### 2.1.2 - 前向传播\n",
    "\n",
    "```python\n",
    "if regularizer != None:\n",
    "    tf.add_to_collection(\"losses\", tf.contrib.layers.l2_regularizer(regularizer)(w))\n",
    "```"
   ]
  },
  {
   "cell_type": "markdown",
   "metadata": {},
   "source": [
    "### 2.2 - 指数衰减学习率"
   ]
  },
  {
   "cell_type": "markdown",
   "metadata": {},
   "source": [
    "```python\n",
    "learning_rate = tf.train.exponential_decay(LEARNING_RATE_BASE, global_step, LEARNING_RATE_STEP, LEARNING_RATE_DECAY, staircase = True)\n",
    "```"
   ]
  },
  {
   "cell_type": "markdown",
   "metadata": {},
   "source": [
    "### 2.3 - 滑动平均"
   ]
  },
  {
   "cell_type": "markdown",
   "metadata": {},
   "source": [
    "```python\n",
    "ema = tf.train.ExponentialMovingAverage(MOVING_AVERAGE_DECAY, global_step)\n",
    "ema_op = ema.apply(tf.trainable_variables())\n",
    "with tf.control_dependencies([train_step, ema_op]):\n",
    "    train_op = tf.no_op(name=\"train\")\n",
    "```"
   ]
  },
  {
   "cell_type": "markdown",
   "metadata": {},
   "source": [
    "## 3 - 测试模型"
   ]
  },
  {
   "cell_type": "markdown",
   "metadata": {},
   "source": [
    "```python\n",
    "def test(mnist):\n",
    "    with tf.Graph().as_default() as g:  # tf.Graph()加载计算图中的节点\n",
    "    定义x，y，y_hat\n",
    "    实例化可以计算滑动平均值的saver对象\n",
    "    正确率运算图定义\n",
    "    while True:\n",
    "        with tf.Session() as sess:\n",
    "            不再初始化所有变量，而是加载ckpt模型ckpt = tf.train.get_checkpoint_path(存储路径)\n",
    "            如果已经有了ckpt模型：if ckpt and ckpt.model_checkpoint_path:\n",
    "                恢复模型到当前会话 saver.restore(sess, ckpt.model_checkpoint_path)\n",
    "                恢复轮数 global_step =\n",
    "                执行正确率的计算 accuracy_score = \n",
    "                打印\n",
    "            如果没有模型：\n",
    "                提示模型没有找到\n",
    "```"
   ]
  }
 ],
 "metadata": {
  "kernelspec": {
   "display_name": "Python [conda root]",
   "language": "python",
   "name": "conda-root-py"
  },
  "language_info": {
   "codemirror_mode": {
    "name": "ipython",
    "version": 3
   },
   "file_extension": ".py",
   "mimetype": "text/x-python",
   "name": "python",
   "nbconvert_exporter": "python",
   "pygments_lexer": "ipython3",
   "version": "3.5.2"
  }
 },
 "nbformat": 4,
 "nbformat_minor": 1
}
