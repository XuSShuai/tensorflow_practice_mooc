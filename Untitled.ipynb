{
 "cells": [
  {
   "cell_type": "code",
   "execution_count": 2,
   "metadata": {
    "collapsed": true
   },
   "outputs": [],
   "source": [
    "import tensorflow as tf\n",
    "\n",
    "INPUT_NODE = 784\n",
    "OUTPUT_NODE = 10\n",
    "LAYER1_NODE = 500\n",
    "\n",
    "def forward(x, regularizer):\n",
    "    w1 = get_weight([INPUT_NODE, LAYER1_NODE], regularizer)\n",
    "    b1 = get_bias([LAYER1_NODE])\n",
    "    w2 = get_weight([LAYER1_NODE, OUTPUT_NODE], regularizer)\n",
    "    b2 = get_bias([OUTPUT_NODE])\n",
    "    \n",
    "    a = tf.nn.relu(tf.matmul(x, w1) + b1)\n",
    "    y = tf.matmul(a, w2) + b2\n",
    "    return y\n",
    "\n",
    "def get_weight(shape, regularizer):\n",
    "    w = tf.Variable(tf.truncated_normal(shape, stddev=1), dtype=tf.float32)\n",
    "    if regularizer != None:\n",
    "        tf.add_to_collection(\"losses\", tf.contrib.layers.l2_regularizer(regularizer)(w))\n",
    "    return w\n",
    "\n",
    "def get_bias(shape):\n",
    "    b = tf.Variable(tf.constant(0.01, shape=shape))\n",
    "    return b"
   ]
  },
  {
   "cell_type": "code",
   "execution_count": null,
   "metadata": {
    "collapsed": true
   },
   "outputs": [],
   "source": [
    "def backward(mnist):\n",
    "    x = tf.placeholder(tf.float32, shape=(None, 784))\n",
    "    y = tf.placeholder(tf.float32, shape=(None, 10))\n",
    "    \n",
    "    "
   ]
  }
 ],
 "metadata": {
  "kernelspec": {
   "display_name": "Python [conda root]",
   "language": "python",
   "name": "conda-root-py"
  },
  "language_info": {
   "codemirror_mode": {
    "name": "ipython",
    "version": 3
   },
   "file_extension": ".py",
   "mimetype": "text/x-python",
   "name": "python",
   "nbconvert_exporter": "python",
   "pygments_lexer": "ipython3",
   "version": "3.5.2"
  }
 },
 "nbformat": 4,
 "nbformat_minor": 1
}
